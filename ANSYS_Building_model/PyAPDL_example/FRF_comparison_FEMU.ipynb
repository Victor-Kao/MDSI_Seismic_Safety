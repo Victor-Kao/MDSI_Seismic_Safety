{
 "cells": [
  {
   "cell_type": "code",
   "execution_count": null,
   "metadata": {},
   "outputs": [],
   "source": [
    "from ansys.mapdl.core import launch_mapdl\n",
    "from Simu_FRFs_TK import my_function\n",
    "import matplotlib.pyplot as plt\n",
    "mapdl = launch_mapdl(nproc=4)"
   ]
  },
  {
   "cell_type": "code",
   "execution_count": null,
   "metadata": {},
   "outputs": [],
   "source": [
    "a = my_function(mapdl)"
   ]
  },
  {
   "cell_type": "code",
   "execution_count": null,
   "metadata": {},
   "outputs": [],
   "source": [
    "\n",
    "freq_values = a['disp_ch3']['freq']\n",
    "frf_ampl3 = a['disp_ch3']['ampl']\n",
    "plt.plot(freq_values, frf_ampl3, label=\"disp_ch3\",linestyle=\"--\")\n",
    "\n",
    "frf_ampl = a['disp_ch9']['ampl']\n",
    "plt.plot(freq_values, frf_ampl, label=\"disp_ch9\",linestyle=\":\")\n",
    "\n",
    "plt.legend()\n",
    "plt.xlabel(\"freq (Hz)\")\n",
    "plt.ylabel(\"U\")\n",
    "plt.show()"
   ]
  }
 ],
 "metadata": {
  "kernelspec": {
   "display_name": "opt2",
   "language": "python",
   "name": "python3"
  },
  "language_info": {
   "name": "python",
   "version": "3.10.13"
  }
 },
 "nbformat": 4,
 "nbformat_minor": 2
}
