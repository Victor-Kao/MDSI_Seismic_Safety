{
 "cells": [
  {
   "cell_type": "code",
   "execution_count": 1,
   "metadata": {},
   "outputs": [],
   "source": [
    "import os\n",
    "import sys\n",
    "from scipy.integrate import simps\n",
    "import matplotlib.pyplot as plt\n",
    "import scipy.io as sio\n",
    "import numpy as np\n",
    "import json\n",
    "import pandas as pd\n",
    "from sklearn.decomposition import PCA\n",
    "from sklearn.gaussian_process import GaussianProcessRegressor\n",
    "from sklearn.gaussian_process.kernels import RBF, ConstantKernel as C\n",
    "from sklearn.model_selection import train_test_split\n",
    "from sklearn.metrics import mean_squared_error\n",
    "import seaborn as sns\n",
    "from scipy.stats import spearmanr\n",
    "\n",
    "\n",
    "project_dir = \"D:/MDSI_project/\"\n",
    "func_dir = \"ANSYS_Building_model/PyAPDL_example/FUNC\"\n",
    "doe_dir = \"ANSYS_Building_model/PyAPDL_example/DOE_data\"\n",
    "sys.path.append(os.path.join(project_dir, func_dir))\n",
    "sys.path.append(os.path.join(project_dir, doe_dir))\n",
    "\n",
    "func_dir_ = os.path.join(project_dir, func_dir)\n",
    "doe_dir_ = os.path.join(project_dir, doe_dir)\n",
    "\n",
    "from Simulation_PyAPDL import simulation_PyAPDL\n",
    "import func_FEMU as FEMU"
   ]
  },
  {
   "cell_type": "code",
   "execution_count": 2,
   "metadata": {},
   "outputs": [
    {
     "name": "stdout",
     "output_type": "stream",
     "text": [
      "PyMAPDL is taking longer than expected to connect to an MAPDL session.\n",
      "Checking if there are any available licenses...\n",
      "Launch Pymapdl\n",
      "     Launch Pymapdl successfully, duration 19.3191 seconds.\n"
     ]
    }
   ],
   "source": [
    "simu_tk = simulation_PyAPDL(nproc=4,nerr=10000)\n",
    "simu_tk.launch_engine()\n",
    "simu_tk.mapdl.clear()"
   ]
  },
  {
   "cell_type": "markdown",
   "metadata": {},
   "source": [
    "- fix parameter: all of the nu\n",
    "- vary parameter: t, e, rho, vs, dr, height\n",
    "- Assumption: x_slab = t_stair\n",
    "- Number of parameter reduced to: 19"
   ]
  },
  {
   "cell_type": "markdown",
   "metadata": {},
   "source": [
    "### FEM modal analysis"
   ]
  },
  {
   "cell_type": "code",
   "execution_count": 42,
   "metadata": {},
   "outputs": [
    {
     "name": "stdout",
     "output_type": "stream",
     "text": [
      " Setting information\n",
      "     Building inner wall           :  True\n",
      "     Building stair                :  True\n",
      "     Building SSI                  :  True\n",
      "     Element size                  :  0.4\n",
      "     Height of building            :  3.5302309636\n",
      " Assigning parameter\n",
      "     Rewrite thickness by input\n",
      "     Rewrite Young's modulus by input\n",
      "     Rewrite Poisson's ratio by input\n",
      "     Rewrite Density by input\n",
      "     Rewrite soil properties by input\n",
      " /PREP7 activated\n",
      "     /PREP7 finished, duration 7.5767 seconds.\n",
      "Solve model: /SOLU\n",
      " Setting information\n",
      "     Solution type                 :  2\n",
      "     Start frequency               :  0.001\n",
      "     End frequency                 :  50\n",
      "     Freqency increment            :  0.5\n",
      "     Number of modes (solu_type=2) :  40\n",
      "     Damping ratio                 :  0.045\n",
      "     /SOLU finished, duration 5.6830 seconds.\n",
      " Extract all modal information , duration 4.9941 seconds.\n"
     ]
    }
   ],
   "source": [
    "import os\n",
    "from IPython.display import clear_output\n",
    "\n",
    "#x = [0.84507014, 0.13539517760383665, 1.0, 0.50633148, 0.1885995, 0.75976072, 1.0, 1.0, 0.21309783, 0.5004223475169194, 0.66487426, 0.7993062197679878, 0.6071382305792775, 0.23569906134107818, 0.9707206995435914, 0.35020139, 0.35176575, 0.54754628, 0.0]\n",
    "\n",
    "#x =  [0.84507014, 0.10531804576144854        ,-0.2477233686953787        ,0.50633148 ,0.1885995  ,0.75976072,\n",
    "#                1.35       , 1.35        ,0.21309783 ,0.5042891338846919        ,0.66487426 ,-0.11111751970865216       ,\n",
    "#                -0.35       , -0.1706996362423985        ,1.35        ,0.35020139 ,0.35176575 ,0.54754628,\n",
    "#                0.11599825721116747       ]\n",
    "\n",
    "x =  [0.84507014, 0.5        ,0.5        ,0.50633148 ,0.1885995  ,0.75976072,\n",
    "                0.5       , 0.5        ,0.21309783 ,0.5        ,0.66487426 ,0.5       ,\n",
    "                0.5       , 0.5        ,0.5        ,0.35020139 ,0.35176575 ,0.54754628,\n",
    "                0.5       ]\n",
    "DOE_info = {}\n",
    "vary_ratio = 0.5\n",
    "\n",
    "# Transform X from [0,1] to [-1,1]\n",
    "X_transformed = 2 * np.array(x) - 1\n",
    "X_transformed = X_transformed.reshape(-1,1)\n",
    "X_transformed = np.transpose(X_transformed)\n",
    "i_doe = 0\n",
    "X_doe_transformed = X_transformed\n",
    "\n",
    "    \n",
    "simu_tk.mapdl.clear()\n",
    "\n",
    "# Parameter list    = [slab ,corridor, ground, edge_wall, inner_wall, stair ]\n",
    "# Parameter list    = [ vs,   rho,   nu ]\n",
    "t_para   = np.array([ 0.468+ vary_ratio*(0.468)*X_transformed[i_doe,0],\n",
    "                      0.8  + vary_ratio*(0.8  )*X_transformed[i_doe,1],\n",
    "                      0.05 + vary_ratio*(0.05 )*X_transformed[i_doe,2],\n",
    "                      0.2  + vary_ratio*(0.2  )*X_transformed[i_doe,3],\n",
    "                      0.2  + vary_ratio*(0.2  )*X_transformed[i_doe,4],\n",
    "                      0.468+ vary_ratio*(0.468)*X_transformed[i_doe,0]])\n",
    "#\n",
    "e_para   = np.array([ 20e9 + vary_ratio*20e9*X_transformed[i_doe,5],\n",
    "                      20e9 + vary_ratio*20e9*X_transformed[i_doe,6],\n",
    "                      20e9 + vary_ratio*20e9*X_transformed[i_doe,7],\n",
    "                      20e9 + vary_ratio*20e9*X_transformed[i_doe,8],\n",
    "                      20e9 + vary_ratio*20e9*X_transformed[i_doe,9],\n",
    "                      20e9 + vary_ratio*20e9*X_transformed[i_doe,5]])\n",
    "#\n",
    "nu_para  = np.array([ 0.27,\n",
    "                      0.27,\n",
    "                      0.27,\n",
    "                      0.27,\n",
    "                      0.27,\n",
    "                      0.27])\n",
    "#\n",
    "rho_para = np.array([ 2300 + vary_ratio*2300*X_transformed[i_doe,10],\n",
    "                      2300 + vary_ratio*2300*X_transformed[i_doe,11],\n",
    "                      2300 + vary_ratio*2300*X_transformed[i_doe,12],\n",
    "                      2300 + vary_ratio*2300*X_transformed[i_doe,13],\n",
    "                      2300 + vary_ratio*2300*X_transformed[i_doe,14],\n",
    "                      2300 + vary_ratio*2300*X_transformed[i_doe,10]])\n",
    "#\n",
    "soil_para = np.array([ 350  + vary_ratio*(350 )*X_transformed[i_doe,15],\n",
    "                       1400 + vary_ratio*(1400)*X_transformed[i_doe,16],\n",
    "                       0.33 ])\n",
    "#\n",
    "height_b            = 3.37 + vary_ratio*3.37*X_transformed[i_doe,17]\n",
    "damp_ratio_b        = 0.045+ 0.01*X_transformed[i_doe,18]\n",
    "#\n",
    "simu_tk.setting_parameter(bool_SSI= True,height=height_b, t_arr=t_para, e_arr=e_para, nu_arr=nu_para, rho_arr=rho_para, soil_arr=soil_para)\n",
    "simu_tk.build_model()\n",
    "#\n",
    "#\n",
    "# Excitation point: Hammer 2.0 Pos1 (shaker)\n",
    "tol = 0.3\n",
    "simu_tk.mapdl.nsel('S','LOC','Z',simu_tk.height*2)\n",
    "simu_tk.mapdl.nsel('R','LOC','X',9.3-tol,9.3+tol)\n",
    "nsel_id_1 = simu_tk.mapdl.nsel('R','LOC','Y',5.9-tol,5.9+tol)\n",
    "simu_tk.mapdl.nsel('ALL')\n",
    "#\n",
    "# Apply the force on selected node and solve \n",
    "simu_tk.solve_model(Solu_type=2, N_modes = 40, Freq_Incr=0.5, End_Freq=50,Damping_ratio= damp_ratio_b, excitation_node=nsel_id_1[1])\n",
    "#\n",
    "#\n",
    "modal_info = simu_tk.get_all_modal_info(N_modes_exp=40)\n",
    "#\n",
    "#\n",
    "\n",
    "\n",
    "result =simu_tk.mapdl.result\n",
    "\n"
   ]
  },
  {
   "cell_type": "code",
   "execution_count": 43,
   "metadata": {},
   "outputs": [],
   "source": [
    "import pyvista as pv\n",
    "pv.global_theme.background = 'white'"
   ]
  },
  {
   "cell_type": "code",
   "execution_count": 49,
   "metadata": {},
   "outputs": [
    {
     "data": {
      "application/vnd.jupyter.widget-view+json": {
       "model_id": "79c9c1b40bae4ad4abab03c1ba7bd7ef",
       "version_major": 2,
       "version_minor": 0
      },
      "text/plain": [
       "Widget(value='<iframe src=\"http://localhost:51911/index.html?ui=P_0x268ca6303a0_40&reconnect=auto\" class=\"pyvi…"
      ]
     },
     "metadata": {},
     "output_type": "display_data"
    }
   ],
   "source": [
    "# 3, 9 \n",
    "\n",
    "result.plot_nodal_displacement(10,comp = 'Z', show_displacement=True, displacement_factor=500)"
   ]
  },
  {
   "cell_type": "code",
   "execution_count": 53,
   "metadata": {},
   "outputs": [
    {
     "data": {
      "application/vnd.jupyter.widget-view+json": {
       "model_id": "07608437d0ec4435996c33eaacf5f375",
       "version_major": 2,
       "version_minor": 0
      },
      "text/plain": [
       "Widget(value='<iframe src=\"http://localhost:51911/index.html?ui=P_0x268e2b78cd0_44&reconnect=auto\" class=\"pyvi…"
      ]
     },
     "metadata": {},
     "output_type": "display_data"
    }
   ],
   "source": [
    "result.plot_nodal_displacement(3,comp = 'Z', show_displacement=True, displacement_factor=500)\n"
   ]
  },
  {
   "cell_type": "code",
   "execution_count": 33,
   "metadata": {},
   "outputs": [
    {
     "data": {
      "application/vnd.jupyter.widget-view+json": {
       "model_id": "27d5bf116edc4eec906dd6bae427fdf1",
       "version_major": 2,
       "version_minor": 0
      },
      "text/plain": [
       "Widget(value='<iframe src=\"http://localhost:51911/index.html?ui=P_0x268784dda50_27&reconnect=auto\" class=\"pyvi…"
      ]
     },
     "metadata": {},
     "output_type": "display_data"
    }
   ],
   "source": [
    "simu_tk.mapdl.post1()\n",
    "simu_tk.mapdl.set(1, 10)\n",
    "#simu_tk.mapdl.upcoord(1)\n",
    "simu_tk.mapdl.post_processing.plot_nodal_displacement('Z',show_edges=True,smooth_shading=False)"
   ]
  },
  {
   "cell_type": "code",
   "execution_count": 55,
   "metadata": {},
   "outputs": [
    {
     "data": {
      "application/vnd.jupyter.widget-view+json": {
       "model_id": "6831bb72e5f1493b9469530ad87c4cd2",
       "version_major": 2,
       "version_minor": 0
      },
      "text/plain": [
       "Widget(value='<iframe src=\"http://localhost:51911/index.html?ui=P_0x269386db9a0_46&reconnect=auto\" class=\"pyvi…"
      ]
     },
     "metadata": {},
     "output_type": "display_data"
    }
   ],
   "source": [
    "simu_tk.mapdl.aplot(show_area_numbering=False, color_areas=True,)"
   ]
  }
 ],
 "metadata": {
  "kernelspec": {
   "display_name": "opt2",
   "language": "python",
   "name": "python3"
  },
  "language_info": {
   "codemirror_mode": {
    "name": "ipython",
    "version": 3
   },
   "file_extension": ".py",
   "mimetype": "text/x-python",
   "name": "python",
   "nbconvert_exporter": "python",
   "pygments_lexer": "ipython3",
   "version": "3.10.13"
  }
 },
 "nbformat": 4,
 "nbformat_minor": 2
}
