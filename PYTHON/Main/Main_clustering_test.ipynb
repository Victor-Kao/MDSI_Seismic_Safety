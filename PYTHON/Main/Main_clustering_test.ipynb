{
 "cells": [
  {
   "cell_type": "markdown",
   "metadata": {},
   "source": [
    "Import data from matlab"
   ]
  },
  {
   "cell_type": "code",
   "execution_count": 8,
   "metadata": {},
   "outputs": [
    {
     "name": "stdout",
     "output_type": "stream",
     "text": [
      "3257\n"
     ]
    }
   ],
   "source": [
    "from scipy.io import loadmat\n",
    "import pandas as pd\n",
    "\n",
    "# Load the .mat file\n",
    "mat_path = 'D:/MDSI_project/DATA_GM_RawData/AllEvent_path.mat'\n",
    "mat_data = loadmat(mat_path)\n",
    "all_path = mat_data['All_path_char']\n"
   ]
  },
  {
   "cell_type": "markdown",
   "metadata": {},
   "source": []
  },
  {
   "cell_type": "code",
   "execution_count": 13,
   "metadata": {},
   "outputs": [
    {
     "name": "stdout",
     "output_type": "stream",
     "text": [
      "Nested dictionary saved to Menhir_vel_FirstEG.json\n"
     ]
    }
   ],
   "source": [
    "import sys\n",
    "import json\n",
    "import numpy as np\n",
    "\n",
    "new_path = 'D:/MDSI_project/PYTHON/Func'\n",
    "sys.path.append(new_path)\n",
    "\n",
    "import Func_ExtractDictfromMenhirCsv as EDMenhir\n",
    "\n",
    "\n",
    "\n",
    "Menhir_vel_FirstEG = {\n",
    "        f'Ev_{i}': EDMenhir.ExtractDictfromMenhirCsv(all_path[i].item()[0])\n",
    "                    for i in range(200)\n",
    "    }\n",
    "\n",
    "\n",
    "def convert_numpy_to_list(d):\n",
    "    for key, value in d.items():\n",
    "        if isinstance(value, np.ndarray):\n",
    "            d[key] = value.tolist()\n",
    "        elif isinstance(value, dict):\n",
    "            convert_numpy_to_list(value)\n",
    "    return d\n",
    "\n",
    "# Convert all NumPy arrays in the nested dictionary\n",
    "converted_dict = convert_numpy_to_list(Menhir_vel_FirstEG)\n",
    "\n",
    "# Path to save the JSON file\n",
    "json_file_path = 'Menhir_vel_FirstEG.json'\n",
    "\n",
    "# Write the dictionary to a JSON file\n",
    "with open(json_file_path, 'w') as json_file:\n",
    "    json.dump(converted_dict, json_file, indent=4)\n",
    "\n",
    "print(f\"Nested dictionary saved to {json_file_path}\")\n",
    "\n"
   ]
  },
  {
   "cell_type": "code",
   "execution_count": 1,
   "metadata": {},
   "outputs": [
    {
     "name": "stdout",
     "output_type": "stream",
     "text": [
      "Nested dictionary saved to nested_data.json\n"
     ]
    }
   ],
   "source": [
    "import json\n",
    "import numpy as np\n",
    "\n",
    "# Example of a nested dictionary with 1000 sub-dictionaries\n",
    "data_dict = {\n",
    "    f'sub_dict_{i}': {\n",
    "        'time': np.arange(0, 1, 0.01),  # Example NumPy array\n",
    "        'X': np.random.rand(100),\n",
    "        'Y': np.random.rand(100),\n",
    "        'Z': np.random.rand(100)\n",
    "    } for i in range(100)\n",
    "}\n",
    "\n",
    "# Convert NumPy arrays to lists\n",
    "def convert_numpy_to_list(d):\n",
    "    for key, value in d.items():\n",
    "        if isinstance(value, np.ndarray):\n",
    "            d[key] = value.tolist()\n",
    "        elif isinstance(value, dict):\n",
    "            convert_numpy_to_list(value)\n",
    "    return d\n",
    "\n",
    "# Convert all NumPy arrays in the nested dictionary\n",
    "converted_dict = convert_numpy_to_list(data_dict)\n",
    "\n",
    "# Path to save the JSON file\n",
    "json_file_path = 'nested_data.json'\n",
    "\n",
    "# Write the dictionary to a JSON file\n",
    "with open(json_file_path, 'w') as json_file:\n",
    "    json.dump(converted_dict, json_file, indent=4)\n",
    "\n",
    "print(f\"Nested dictionary saved to {json_file_path}\")\n"
   ]
  }
 ],
 "metadata": {
  "kernelspec": {
   "display_name": "opt2",
   "language": "python",
   "name": "python3"
  },
  "language_info": {
   "codemirror_mode": {
    "name": "ipython",
    "version": 3
   },
   "file_extension": ".py",
   "mimetype": "text/x-python",
   "name": "python",
   "nbconvert_exporter": "python",
   "pygments_lexer": "ipython3",
   "version": "3.10.13"
  }
 },
 "nbformat": 4,
 "nbformat_minor": 2
}
